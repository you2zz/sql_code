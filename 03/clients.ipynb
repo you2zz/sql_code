{
 "cells": [
  {
   "attachments": {},
   "cell_type": "markdown",
   "metadata": {},
   "source": [
    "pip install psycopg2-binary\n",
    "createdb -U postgres clients_db"
   ]
  },
  {
   "cell_type": "code",
   "execution_count": null,
   "metadata": {},
   "outputs": [],
   "source": [
    "import psycopg2\n",
    "\n",
    "def create_db(conn):\n",
    "    with conn.cursor() as cur:\n",
    "        cur.execute(\"\"\"\n",
    "        CREATE TABLE IF NOT EXISTS clients (\n",
    "            client_id  SERIAL PRIMARY KEY,\n",
    "            first_name VARCHAR(60) NOT NULL,\n",
    "            last_name VARCHAR(60) NOT NULL,\n",
    "            e_mail  VARCHAR(60) NOT NULL UNIQUE\n",
    "            CHECK (e_mail ~ '^[a-zA-Z0-9.!#$%&''*+/=?^_`{|}~-]+@[a-zA-Z0-9](?:[a-zA-Z0-9-]{0,61}[a-zA-Z0-9])?(?:\\.[a-zA-Z0-9](?:[a-zA-Z0-9-]{0,61}[a-zA-Z0-9])?)*$')\n",
    "            );\n",
    "        \"\"\")\n",
    "        cur.execute(\"\"\"\n",
    "        CREATE TABLE IF NOT EXISTS phones(\n",
    "            phone_id SERIAL PRIMARY KEY,\n",
    "            client_id INTEGER REFERENCES clients (client_id) ON DELETE CASCADE,\n",
    "            phone_number TEXT NOT NULL UNIQUE\n",
    "            CHECK (phone_number ~ '^\\d{10}$')\n",
    "            );\n",
    "        \"\"\")\n",
    "        conn.commit()\n",
    "    return 'Базы данных созданы'\n",
    "\n",
    "def add_client(conn, first_name, last_name, email, phone=None):\n",
    "    with conn.cursor() as cur:\n",
    "        if phone == None:\n",
    "            cur.execute(\"\"\"\n",
    "                INSERT INTO clients(first_name, last_name, e_mail) VALUES\n",
    "                    (%s, %s, %s);\n",
    "                \"\"\", (first_name, last_name, email))\n",
    "            d = 'Добавлен новый клиент, но он не указал телефон'\n",
    "\n",
    "        else:\n",
    "            cur.execute(\"\"\"\n",
    "                with rows as (\n",
    "                INSERT INTO clients (first_name, last_name, e_mail) \n",
    "                VALUES (%s, %s, %s) RETURNING client_id \n",
    "                )\n",
    "                INSERT INTO phones (client_id, phone_number) \n",
    "                SELECT client_id, %s\n",
    "                FROM rows;\n",
    "            \"\"\", (first_name, last_name, email, phone))\n",
    "            d = 'Добавлен новый клиент. Телефон указан'\n",
    "        conn.commit()\n",
    "    return d"
   ]
  },
  {
   "cell_type": "code",
   "execution_count": 26,
   "metadata": {},
   "outputs": [
    {
     "name": "stdout",
     "output_type": "stream",
     "text": [
      "Новый клиент не указал телефон\n"
     ]
    }
   ],
   "source": [
    "with psycopg2.connect(database=\"clients_db\", user=\"postgres\", password=\"fur2529\") as conn:\n",
    "    #print(create_db(conn))\n",
    "    #print(add_client(conn, 'Том', 'Круз', 'tomcruser@gmail.com', '9826153947'))\n",
    "    #print(add_client(conn, 'Дмитрий', 'Нагиев', 'dimadoma@gmail.com', '9826153946'))\n",
    "    print(add_client(conn, 'Роберт', 'Де Ниро', 'deniroff@gmail.com'))\n",
    "conn.close()"
   ]
  },
  {
   "attachments": {},
   "cell_type": "markdown",
   "metadata": {},
   "source": [
    "  cur.execute(\"\"\"\n",
    "        INSERT INTO homework(number, description, course_id) VALUES(%s, %s, %s);\n",
    "        \"\"\", (2, \"задание посложнее\", python_id))\n",
    "        conn.commit()  # фиксируем в БД"
   ]
  },
  {
   "attachments": {},
   "cell_type": "markdown",
   "metadata": {},
   "source": [
    "import psycopg2\n",
    "\n",
    "def create_db(conn):\n",
    "    pass\n",
    "\n",
    "def add_client(conn, first_name, last_name, email, phones=None):\n",
    "    pass\n",
    "\n",
    "def add_phone(conn, client_id, phone):\n",
    "    pass\n",
    "\n",
    "def change_client(conn, client_id, first_name=None, last_name=None, email=None, phones=None):\n",
    "    pass\n",
    "\n",
    "def delete_phone(conn, client_id, phone):\n",
    "    pass\n",
    "\n",
    "def delete_client(conn, client_id):\n",
    "    pass\n",
    "\n",
    "def find_client(conn, first_name=None, last_name=None, email=None, phone=None):\n",
    "    pass\n",
    "\n",
    "\n",
    "with psycopg2.connect(database=\"clients_db\", user=\"postgres\", password=\"postgres\") as conn:\n",
    "    pass  # вызывайте функции здесь\n",
    "\n",
    "conn.close()"
   ]
  }
 ],
 "metadata": {
  "kernelspec": {
   "display_name": "Python 3",
   "language": "python",
   "name": "python3"
  },
  "language_info": {
   "codemirror_mode": {
    "name": "ipython",
    "version": 3
   },
   "file_extension": ".py",
   "mimetype": "text/x-python",
   "name": "python",
   "nbconvert_exporter": "python",
   "pygments_lexer": "ipython3",
   "version": "3.11.3"
  },
  "orig_nbformat": 4
 },
 "nbformat": 4,
 "nbformat_minor": 2
}
