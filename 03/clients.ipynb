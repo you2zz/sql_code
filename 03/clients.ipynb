{
 "cells": [
  {
   "attachments": {},
   "cell_type": "markdown",
   "metadata": {},
   "source": [
    "pip install psycopg2-binary\n",
    "createdb -U postgres clients_db"
   ]
  },
  {
   "cell_type": "code",
   "execution_count": 77,
   "metadata": {},
   "outputs": [],
   "source": [
    "import psycopg2\n",
    "\n",
    "def create_db(conn):\n",
    "    with conn.cursor() as cur:\n",
    "        cur.execute(\"\"\"\n",
    "        CREATE TABLE IF NOT EXISTS clients (\n",
    "            client_id  SERIAL PRIMARY KEY,\n",
    "            first_name VARCHAR(60) NOT NULL,\n",
    "            last_name VARCHAR(60) NOT NULL,\n",
    "            e_mail  VARCHAR(60) NOT NULL UNIQUE\n",
    "            CHECK (e_mail ~ '^[a-zA-Z0-9.!#$%&''*+/=?^_`{|}~-]+@[a-zA-Z0-9](?:[a-zA-Z0-9-]{0,61}[a-zA-Z0-9])?(?:\\.[a-zA-Z0-9](?:[a-zA-Z0-9-]{0,61}[a-zA-Z0-9])?)*$')\n",
    "            );\n",
    "        \"\"\")\n",
    "        cur.execute(\"\"\"\n",
    "        CREATE TABLE IF NOT EXISTS phones(\n",
    "            phone_id SERIAL PRIMARY KEY,\n",
    "            client_id INTEGER REFERENCES clients (client_id) ON DELETE CASCADE,\n",
    "            phone_number TEXT NOT NULL UNIQUE\n",
    "            CHECK (phone_number ~ '^\\d{10}$')\n",
    "            );\n",
    "        \"\"\")\n",
    "        conn.commit()\n",
    "    return 'Таблицы созданы'\n",
    "\n",
    "def add_client(conn, first_name, last_name, email, phones=None):\n",
    "    with conn.cursor() as cur:\n",
    "        cur.execute(\"\"\"\n",
    "            INSERT INTO clients(first_name, last_name, e_mail) VALUES\n",
    "            (%s, %s, %s) RETURNING client_id;\n",
    "            \"\"\", (first_name, last_name, email))\n",
    "        client_id = cur.fetchone()\n",
    "        if phones == None:\n",
    "            d = f'Добавлен новый клиент c ID {client_id}, но он не указал телефон'\n",
    "        else:\n",
    "            list_phone =[]\n",
    "            for num_phone in phones.split(','):\n",
    "                cur.execute(\"\"\"\n",
    "                    INSERT INTO phones (client_id, phone_number) VALUES\n",
    "                    (%s, %s);\n",
    "                \"\"\", (client_id, num_phone.strip()))\n",
    "                list_phone.append(num_phone.strip())\n",
    "            conn.commit()\n",
    "            d = f'Добавлен новый клиент c ID {client_id} и телефонные номера: {\"\".join(list_phone)}'\n",
    "    return d\n",
    "\n",
    "def add_phone(conn, client_id, phone):\n",
    "    with conn.cursor() as cur:\n",
    "         cur.execute(\"\"\"\n",
    "         INSERT INTO phones (client_id, phone_number) VALUES\n",
    "        (%s, %s);\n",
    "        \"\"\", (client_id, phone))\n",
    "    conn.commit()\n",
    "    return f'Клиенту с ID {client_id} добавлен новый телефонный номер: {phone}'\n",
    "\n",
    "def change_client(conn, client_id, first_name=None, last_name=None, email=None, phones=None):\n",
    "    pass"
   ]
  },
  {
   "cell_type": "code",
   "execution_count": 78,
   "metadata": {},
   "outputs": [
    {
     "name": "stdout",
     "output_type": "stream",
     "text": [
      "Добавлен новый клиент c ID (14,) и телефонные номера: 9312655934\n"
     ]
    }
   ],
   "source": [
    "with psycopg2.connect(database=\"clients_db\", user=\"postgres\", password=\"fur2529\") as conn:\n",
    "    #print(create_db(conn))\n",
    "    #print(add_client(conn, 'Том', 'Круз', 'tomcruser@gmail.com', '9826153947'))\n",
    "    #print(add_client(conn, 'Дмитрий', 'Нагиев', 'dimadoma@gmail.com', '9826153946'))\n",
    "    #print(add_client(conn, 'Роберт', 'Де Ниро', 'deniroff@gmail.com'))\n",
    "    #print(add_client(conn, 'Александр', 'Домогаров', 'adomogarov@gmail.com', '9826153957'))\n",
    "    #print(add_client(conn, 'Джек', 'Николсон', 'dnick@gmail.com'))\n",
    "    #print(add_client(conn, 'Павел', 'Деревянко', 'derevo@gmail.com', '9821653957'))\n",
    "    #print(add_client(conn, 'Анжелина', 'Джоли', 'adjoli@gmail.com'))\n",
    "    #print(add_client(conn, 'Анастасия', 'Мельникова', 'melana@gmail.com', '9358741237, 9855641248, 9872545186'))\n",
    "    #print(add_client(conn, 'Павел', 'Прилучный', 'prilucha@gmail.com', '9321653954'))\n",
    "    #print(add_client(conn, 'Джулия', 'Робертс', 'rjuli@gmail.com', '9312655934'))\n",
    "    #print(add_phone(conn, 2, '9564237481'))\n",
    "conn.close()"
   ]
  },
  {
   "attachments": {},
   "cell_type": "markdown",
   "metadata": {},
   "source": [
    "def change_client(conn, client_id, first_name=None, last_name=None, email=None, phones=None):\n",
    "    pass\n",
    "\n",
    "def delete_phone(conn, client_id, phone):\n",
    "    pass\n",
    "\n",
    "def delete_client(conn, client_id):\n",
    "    pass\n",
    "\n",
    "def find_client(conn, first_name=None, last_name=None, email=None, phone=None):\n",
    "    pass\n",
    "\n",
    "\n",
    "with psycopg2.connect(database=\"clients_db\", user=\"postgres\", password=\"postgres\") as conn:\n",
    "    pass  # вызывайте функции здесь\n",
    "\n",
    "conn.close()"
   ]
  },
  {
   "cell_type": "code",
   "execution_count": null,
   "metadata": {},
   "outputs": [],
   "source": [
    "s = '584848848484, 95959595995,    565556565'\n",
    "for i in s.split(','):\n",
    "    print(i)\n",
    "    print(i.strip())"
   ]
  }
 ],
 "metadata": {
  "kernelspec": {
   "display_name": "Python 3",
   "language": "python",
   "name": "python3"
  },
  "language_info": {
   "codemirror_mode": {
    "name": "ipython",
    "version": 3
   },
   "file_extension": ".py",
   "mimetype": "text/x-python",
   "name": "python",
   "nbconvert_exporter": "python",
   "pygments_lexer": "ipython3",
   "version": "3.11.3"
  },
  "orig_nbformat": 4
 },
 "nbformat": 4,
 "nbformat_minor": 2
}
